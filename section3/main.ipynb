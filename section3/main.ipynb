{
 "cells": [
  {
   "cell_type": "markdown",
   "metadata": {},
   "source": [
    "## 第3章 ベイズ推論とは\n",
    "- 簡潔に定義すると、\n",
    "  - ベイズ推論とは、統計的分析の手法の一つ（他には最尤推定という代表手法がある）\n",
    "  - 事前分布と観測された事象から、それらの起因である原因事象を確率的に推論する（事後分布を求める）\n",
    "\n",
    " "
   ]
  },
  {
   "cell_type": "code",
   "execution_count": 1,
   "metadata": {},
   "outputs": [
    {
     "name": "stdout",
     "output_type": "stream",
     "text": [
      "\n",
      "\u001b[1m[\u001b[0m\u001b[34;49mnotice\u001b[0m\u001b[1;39;49m]\u001b[0m\u001b[39;49m A new release of pip is available: \u001b[0m\u001b[31;49m23.2.1\u001b[0m\u001b[39;49m -> \u001b[0m\u001b[32;49m24.2\u001b[0m\n",
      "\u001b[1m[\u001b[0m\u001b[34;49mnotice\u001b[0m\u001b[1;39;49m]\u001b[0m\u001b[39;49m To update, run: \u001b[0m\u001b[32;49mpython3.11 -m pip install --upgrade pip\u001b[0m\n",
      "Requirement already satisfied: six>=1.5 in /Users/kazuki/Library/Python/3.11/lib/python/site-packages (from python-dateutil>=2.7->matplotlib->japanize-matplotlib) (1.16.0)\n",
      "\n",
      "\u001b[1m[\u001b[0m\u001b[34;49mnotice\u001b[0m\u001b[1;39;49m]\u001b[0m\u001b[39;49m A new release of pip is available: \u001b[0m\u001b[31;49m23.2.1\u001b[0m\u001b[39;49m -> \u001b[0m\u001b[32;49m24.2\u001b[0m\n",
      "\u001b[1m[\u001b[0m\u001b[34;49mnotice\u001b[0m\u001b[1;39;49m]\u001b[0m\u001b[39;49m To update, run: \u001b[0m\u001b[32;49mpython3.11 -m pip install --upgrade pip\u001b[0m\n",
      "Requirement already satisfied: six>=1.5 in /Users/kazuki/Library/Python/3.11/lib/python/site-packages (from python-dateutil>=2.7->matplotlib!=3.6.1,>=3.4->seaborn) (1.16.0)\n",
      "\n",
      "\u001b[1m[\u001b[0m\u001b[34;49mnotice\u001b[0m\u001b[1;39;49m]\u001b[0m\u001b[39;49m A new release of pip is available: \u001b[0m\u001b[31;49m23.2.1\u001b[0m\u001b[39;49m -> \u001b[0m\u001b[32;49m24.2\u001b[0m\n",
      "\u001b[1m[\u001b[0m\u001b[34;49mnotice\u001b[0m\u001b[1;39;49m]\u001b[0m\u001b[39;49m To update, run: \u001b[0m\u001b[32;49mpython3.11 -m pip install --upgrade pip\u001b[0m\n",
      "Requirement already satisfied: numpy<2.3,>=1.23.5 in /Library/Frameworks/Python.framework/Versions/3.11/lib/python3.11/site-packages (from scipy) (1.26.4)\n",
      "\n",
      "\u001b[1m[\u001b[0m\u001b[34;49mnotice\u001b[0m\u001b[1;39;49m]\u001b[0m\u001b[39;49m A new release of pip is available: \u001b[0m\u001b[31;49m23.2.1\u001b[0m\u001b[39;49m -> \u001b[0m\u001b[32;49m24.2\u001b[0m\n",
      "\u001b[1m[\u001b[0m\u001b[34;49mnotice\u001b[0m\u001b[1;39;49m]\u001b[0m\u001b[39;49m To update, run: \u001b[0m\u001b[32;49mpython3.11 -m pip install --upgrade pip\u001b[0m\n",
      "Requirement already satisfied: multipledispatch in /Library/Frameworks/Python.framework/Versions/3.11/lib/python3.11/site-packages (from logical-unification->pytensor<2.26,>=2.25.1->pymc) (1.0.0)\n",
      "\n",
      "\u001b[1m[\u001b[0m\u001b[34;49mnotice\u001b[0m\u001b[1;39;49m]\u001b[0m\u001b[39;49m A new release of pip is available: \u001b[0m\u001b[31;49m23.2.1\u001b[0m\u001b[39;49m -> \u001b[0m\u001b[32;49m24.2\u001b[0m\n",
      "\u001b[1m[\u001b[0m\u001b[34;49mnotice\u001b[0m\u001b[1;39;49m]\u001b[0m\u001b[39;49m To update, run: \u001b[0m\u001b[32;49mpython3.11 -m pip install --upgrade pip\u001b[0m\n",
      "Requirement already satisfied: six>=1.5 in /Users/kazuki/Library/Python/3.11/lib/python/site-packages (from python-dateutil>=2.7->matplotlib>=3.5->arviz) (1.16.0)\n"
     ]
    }
   ],
   "source": [
    "%matplotlib inline\n",
    "!pip3 install japanize-matplotlib | tail -n 1\n",
    "!pip3 install seaborn | tail -n 1\n",
    "!pip3 install scipy | tail -n 1\n",
    "!pip3 install pymc | tail -n 1\n",
    "!pip3 install arviz | tail -n 1"
   ]
  },
  {
   "cell_type": "code",
   "execution_count": 2,
   "metadata": {},
   "outputs": [
    {
     "name": "stderr",
     "output_type": "stream",
     "text": [
      "WARNING (pytensor.tensor.blas): Using NumPy C-API based implementation for BLAS functions.\n"
     ]
    }
   ],
   "source": [
    "# ライブラリのimport\n",
    "import numpy as np\n",
    "import matplotlib.pyplot as plt\n",
    "import japanize_matplotlib\n",
    "import pandas as pd\n",
    "from IPython.display import display\n",
    "import seaborn as sns\n",
    "from scipy.special import comb\n",
    "import pymc as pm\n",
    "import arviz as az\n",
    "\n",
    "# Numpy表示形式の設定\n",
    "np.set_printoptions(precision=3, floatmode='fixed')\n",
    "# グラフのデフォルトフォント指定\n",
    "plt.rcParams[\"font.size\"] = 14\n",
    "plt.rcParams[\"figure.figsize\"] = (8, 8)\n",
    "# 方眼表示ON\n",
    "plt.rcParams[\"axes.grid\"] = True\n",
    "# データフレームでの表示精度\n",
    "pd.options.display.float_format = '{:.3f}'.format\n",
    "# データフレームで全ての項目を表示\n",
    "pd.set_option(\"display.max_columns\", None)"
   ]
  },
  {
   "cell_type": "markdown",
   "metadata": {},
   "source": [
    "## ベイズ推論利用の目的\n",
    "- 「なぜベイズ推論を利用するのか」の問いに対する答えを考える場合、もう一つの有力な推論手法である最尤推定と比較して考えてみる。\n",
    "- 両手法とも、目的は「確率分布のパラメータ値を推測する」こと。\n",
    "\n",
    "- 最尤推定では、事前に __パラメータに関する尤度関数が定まっている__ 事が前提。\n",
    "  - 手順\n",
    "    - （事前準備）確率モデルと観測値から尤度関数を作る\n",
    "    -　尤度関数から最適値（最大になる値）を求める　勾配降下法が用いられたりする。つまり、結果は __1点の値__\n",
    "     - ここでいう「確率モデル」は、観測値が従っていると仮定される確率分布\n",
    "     - 例：観測データが正規分布に従う仮定の場合、その分布のパラメータ（平均・分散）を最尤推定で点で求める\n",
    "\n",
    "- ベイズ推論では、\n",
    "  - __特定のパラメータ値ではなく、パラメータ値の確率分布を求めることが目的__\n",
    "  - 手順\n",
    "    - 確率モデルと事前分布、観測値から結果を導出\n",
    "    - その結果が事後分布（確率分布）\n",
    "  - 確率分布で推論できた後、この結果に確からしさの基準（94%HDIなど）を設定して、予測値がAーBの範囲に含まれるという __幅による予測が可能__\n"
   ]
  },
  {
   "cell_type": "markdown",
   "metadata": {},
   "source": []
  }
 ],
 "metadata": {
  "kernelspec": {
   "display_name": "Python 3",
   "language": "python",
   "name": "python3"
  },
  "language_info": {
   "codemirror_mode": {
    "name": "ipython",
    "version": 3
   },
   "file_extension": ".py",
   "mimetype": "text/x-python",
   "name": "python",
   "nbconvert_exporter": "python",
   "pygments_lexer": "ipython3",
   "version": "3.11.6"
  }
 },
 "nbformat": 4,
 "nbformat_minor": 2
}
